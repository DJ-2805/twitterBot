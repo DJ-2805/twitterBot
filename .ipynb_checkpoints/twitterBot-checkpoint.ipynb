{
 "cells": [
  {
   "cell_type": "markdown",
   "metadata": {},
   "source": [
    "### Sources\n",
    "1. [Setting up Script and Respberry Pi](https://team-coder.com/twitter-bot-with-python)\n",
    "2. [Setting up virtual environment](https://www.twilio.com/blog/build-deploy-twitter-bots-python-tweepy-pythonanywhere)\n",
    "3. [TwitterBot that posts messages on a time interval from a file](https://geekswipe.net/technology/computing/code-python-twitter-bot-in-ten-minutes/)\n",
    "4. [TwitterBot that retweets messages already posted](https://fedoramagazine.org/learn-build-twitter-bot-python/)\n",
    "5. [TwitterBot that posts messages](https://dototot.com/how-to-write-a-twitter-bot-with-python-and-tweepy/)\n",
    "6. [TwitterBot that posts images and scrambles them](https://scotch.io/tutorials/build-a-tweet-bot-with-python)\n",
    "7. [Generic sources on TwitterBots](https://botwiki.org/resources/twitterbots/)\n",
    "8. [Twython documentation](https://twython.readthedocs.io/en/latest/usage/basic_usage.html#howtosearch)"
   ]
  },
  {
   "cell_type": "code",
   "execution_count": null,
   "metadata": {},
   "outputs": [],
   "source": []
  }
 ],
 "metadata": {
  "kernelspec": {
   "display_name": "ITStwitterBot",
   "language": "python",
   "name": "itstwitterbot"
  },
  "language_info": {
   "codemirror_mode": {
    "name": "ipython",
    "version": 3
   },
   "file_extension": ".py",
   "mimetype": "text/x-python",
   "name": "python",
   "nbconvert_exporter": "python",
   "pygments_lexer": "ipython3",
   "version": "3.6.7"
  }
 },
 "nbformat": 4,
 "nbformat_minor": 2
}
