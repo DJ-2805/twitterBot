{
 "cells": [
  {
   "cell_type": "markdown",
   "metadata": {},
   "source": [
    "### Sources\n",
    "1. [Setting up Script and Respberry Pi](https://team-coder.com/twitter-bot-with-python)\n",
    "2. [Setting up virtual environment](https://www.twilio.com/blog/build-deploy-twitter-bots-python-tweepy-pythonanywhere)\n",
    "3. [TwitterBot that posts messages on a time interval from a file](https://geekswipe.net/technology/computing/code-python-twitter-bot-in-ten-minutes/)\n",
    "4. [TwitterBot that retweets messages already posted](https://fedoramagazine.org/learn-build-twitter-bot-python/)\n",
    "5. [TwitterBot that posts messages](https://dototot.com/how-to-write-a-twitter-bot-with-python-and-tweepy/)\n",
    "6. [TwitterBot that posts images and scrambles them](https://scotch.io/tutorials/build-a-tweet-bot-with-python)\n",
    "7. [Generic sources on TwitterBots](https://botwiki.org/resources/twitterbots/)\n",
    "8. [Twython documentation](https://twython.readthedocs.io/en/latest/usage/basic_usage.html#howtosearch)"
   ]
  },
  {
   "cell_type": "code",
   "execution_count": null,
   "metadata": {},
   "outputs": [],
   "source": [
    "from twython import Twython, TwythonError"
   ]
  },
  {
   "cell_type": "code",
   "execution_count": null,
   "metadata": {},
   "outputs": [],
   "source": [
    "app_key = '9AhPSwqckmWmPMx6Q8QZy7prt'\n",
    "app_secret = 'tzPHFncPr4dwvgkYJMoiTLopcFFUKYev65rAnGqt96B79No1gE'\n",
    "\n",
    "acc_token = '1075518467707527168-FXvV9mw6onLPNKWgBr4Ohq28ehCOST'\n",
    "acc_secret = 'TGOnjrECN80kPaFc1w1euqHezMz4WckfT1N8LISTyEFSh'"
   ]
  },
  {
   "cell_type": "code",
   "execution_count": null,
   "metadata": {},
   "outputs": [],
   "source": [
    "twitter = Twython(app_key,app_secret,acc_token,acc_secret)"
   ]
  },
  {
   "cell_type": "code",
   "execution_count": null,
   "metadata": {},
   "outputs": [],
   "source": [
    "twitter.verify_credentials()"
   ]
  },
  {
   "cell_type": "code",
   "execution_count": null,
   "metadata": {},
   "outputs": [],
   "source": [
    "twitter.update_status(status='Hello World!')"
   ]
  }
 ],
 "metadata": {
  "kernelspec": {
   "display_name": "ITStwitterBot",
   "language": "python",
   "name": "itstwitterbot"
  },
  "language_info": {
   "codemirror_mode": {
    "name": "ipython",
    "version": 3
   },
   "file_extension": ".py",
   "mimetype": "text/x-python",
   "name": "python",
   "nbconvert_exporter": "python",
   "pygments_lexer": "ipython3",
   "version": "3.6.7"
  }
 },
 "nbformat": 4,
 "nbformat_minor": 2
}
