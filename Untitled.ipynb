{
 "cells": [
  {
   "cell_type": "code",
   "execution_count": 1,
   "metadata": {},
   "outputs": [],
   "source": [
    "import boto3 as b3"
   ]
  },
  {
   "cell_type": "code",
   "execution_count": 2,
   "metadata": {},
   "outputs": [],
   "source": [
    "s3 = b3.resource('s3')"
   ]
  },
  {
   "cell_type": "code",
   "execution_count": 8,
   "metadata": {},
   "outputs": [
    {
     "name": "stdout",
     "output_type": "stream",
     "text": [
      "didn't work\n"
     ]
    }
   ],
   "source": [
    "BUCKET_NAME = 'revision-geoid-images'\n",
    "KEY = '60250101011.png'\n",
    "try:\n",
    "    s3.Bucket(BUCKET_NAME).download(KEY, 'my_local_image.png')\n",
    "except:\n",
    "    print(\"didn't work\")"
   ]
  }
 ],
 "metadata": {
  "kernelspec": {
   "display_name": "Python3ITS",
   "language": "python",
   "name": "python3its"
  },
  "language_info": {
   "codemirror_mode": {
    "name": "ipython",
    "version": 3
   },
   "file_extension": ".py",
   "mimetype": "text/x-python",
   "name": "python",
   "nbconvert_exporter": "python",
   "pygments_lexer": "ipython3",
   "version": "3.6.8"
  }
 },
 "nbformat": 4,
 "nbformat_minor": 4
}
