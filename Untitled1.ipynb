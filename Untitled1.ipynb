{
 "cells": [
  {
   "cell_type": "code",
   "execution_count": 1,
   "metadata": {},
   "outputs": [],
   "source": [
    "from csv import reader\n",
    "from collections import OrderedDict"
   ]
  },
  {
   "cell_type": "code",
   "execution_count": 20,
   "metadata": {},
   "outputs": [],
   "source": [
    "\n",
    "csvfile = open('resources/tweets.csv', mode='r')\n",
    "# with open('resources/tweets.csv', newline='') as csvfile:\n",
    "#     spamreader = csv.reader(csvfile, delimiter =' ', quotechar='|')\n",
    "#     for row in spamreader:\n",
    "#         print(', '.join(row))"
   ]
  },
  {
   "cell_type": "code",
   "execution_count": 21,
   "metadata": {},
   "outputs": [],
   "source": [
    "spamreader = reader(csvfile)"
   ]
  },
  {
   "cell_type": "code",
   "execution_count": 22,
   "metadata": {},
   "outputs": [],
   "source": [
    "header = next(spamreader)\n",
    "check = []\n",
    "for row in spamreader:\n",
    "    check.append(row)"
   ]
  },
  {
   "cell_type": "code",
   "execution_count": 36,
   "metadata": {},
   "outputs": [
    {
     "data": {
      "text/plain": [
       "'Block Group 60250101011: Calipatria, Imperial County, 92233. https://revision.lewis.ucla.edu/details/index.html?geoid=15000US060250101011&x=-115.462864&y=33.1874151\\n\\nThe population density is 28 persons per square mile (1.13% percentile for the SCAG region).'"
      ]
     },
     "execution_count": 36,
     "metadata": {},
     "output_type": "execute_result"
    }
   ],
   "source": [
    "check[0][1]"
   ]
  },
  {
   "cell_type": "code",
   "execution_count": 13,
   "metadata": {},
   "outputs": [
    {
     "data": {
      "text/plain": [
       "'Block Group 60250101011: Calipatria, Imperial County, 92233. https://revision.lewis.ucla.edu/details/index.html?geoid=15000US060250101011&x=-115.462864&y=33.1874151\\n\\nThe population density is 28 persons per square mile (1.13% percentile for the SCAG region).'"
      ]
     },
     "execution_count": 13,
     "metadata": {},
     "output_type": "execute_result"
    }
   ],
   "source": [
    "odict['60250101011'][0]"
   ]
  },
  {
   "cell_type": "code",
   "execution_count": 73,
   "metadata": {},
   "outputs": [],
   "source": [
    "check = list(odict.items())"
   ]
  },
  {
   "cell_type": "code",
   "execution_count": 83,
   "metadata": {},
   "outputs": [
    {
     "data": {
      "text/plain": [
       "'Block Group 60250101023: Calipatria, Imperial County, 92233. https://revision.lewis.ucla.edu/details/index.html?geoid=15000US060250101023&x=-115.5210106&y=33.1218981\\n\\nThe population density is 2806 persons per square mile (14.74% percentile for the SCAG region).'"
      ]
     },
     "execution_count": 83,
     "metadata": {},
     "output_type": "execute_result"
    }
   ],
   "source": [
    "check[3][1][0]"
   ]
  },
  {
   "cell_type": "code",
   "execution_count": 139,
   "metadata": {},
   "outputs": [
    {
     "data": {
      "text/plain": [
       "1"
      ]
     },
     "execution_count": 139,
     "metadata": {},
     "output_type": "execute_result"
    }
   ],
   "source": [
    "fileIn = open('resources/index.txt',mode='r')\n",
    "index = int(fileIn.read())\n",
    "fileOut = open('resources/index.txt',mode='w')\n",
    "index"
   ]
  },
  {
   "cell_type": "code",
   "execution_count": 140,
   "metadata": {},
   "outputs": [
    {
     "data": {
      "text/plain": [
       "1"
      ]
     },
     "execution_count": 140,
     "metadata": {},
     "output_type": "execute_result"
    }
   ],
   "source": [
    "index = index + 1\n",
    "fileOut.write(str(index))"
   ]
  },
  {
   "cell_type": "code",
   "execution_count": 141,
   "metadata": {},
   "outputs": [
    {
     "data": {
      "text/plain": [
       "2"
      ]
     },
     "execution_count": 141,
     "metadata": {},
     "output_type": "execute_result"
    }
   ],
   "source": [
    "fileIn = open('resources/index.txt',mode='r')\n",
    "index = int(fileIn.read())\n",
    "index"
   ]
  }
 ],
 "metadata": {
  "kernelspec": {
   "display_name": "Python 3",
   "language": "python",
   "name": "python3"
  },
  "language_info": {
   "codemirror_mode": {
    "name": "ipython",
    "version": 3
   },
   "file_extension": ".py",
   "mimetype": "text/x-python",
   "name": "python",
   "nbconvert_exporter": "python",
   "pygments_lexer": "ipython3",
   "version": "3.6.8"
  }
 },
 "nbformat": 4,
 "nbformat_minor": 4
}
