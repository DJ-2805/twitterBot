{
 "cells": [
  {
   "cell_type": "code",
   "execution_count": 35,
   "metadata": {},
   "outputs": [],
   "source": [
    "import pandas as pd\n",
    "import screenshot as ss\n",
    "from random import randint"
   ]
  },
  {
   "cell_type": "code",
   "execution_count": 74,
   "metadata": {},
   "outputs": [],
   "source": [
    "name = '037latlon.csv'\n",
    "data = pd.read_csv(name)\n",
    "latlon = data[['INTPTLAT10','INTPTLON10']]\n",
    "length = latlon.shape[0]\n",
    "randi = randint(0,length-1)\n",
    "lat = latlon['INTPTLAT10'][randi]\n",
    "lon = latlon['INTPTLON10'][randi]\n",
    "# ss.main(lat,lon)\n",
    "latlon = latlon.drop(randi)\n",
    "latlon.to_csv(name)"
   ]
  }
 ],
 "metadata": {
  "kernelspec": {
   "display_name": "twitterBot",
   "language": "python",
   "name": "twitterbot"
  },
  "language_info": {
   "codemirror_mode": {
    "name": "ipython",
    "version": 3
   },
   "file_extension": ".py",
   "mimetype": "text/x-python",
   "name": "python",
   "nbconvert_exporter": "python",
   "pygments_lexer": "ipython3",
   "version": "3.6.7"
  }
 },
 "nbformat": 4,
 "nbformat_minor": 2
}
